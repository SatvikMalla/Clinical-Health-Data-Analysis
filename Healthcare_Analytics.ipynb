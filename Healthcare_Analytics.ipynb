{
  "nbformat": 4,
  "nbformat_minor": 0,
  "metadata": {
    "colab": {
      "provenance": []
    },
    "kernelspec": {
      "name": "python3",
      "display_name": "Python 3"
    },
    "language_info": {
      "name": "python"
    }
  },
  "cells": [
    {
      "cell_type": "code",
      "source": [
        "# -- 1. Count & Percentage of Female vs Male that have OCD & Average Obsession Score by Gender\n",
        "\n",
        "WITH data AS (\n",
        "  SELECT\n",
        "    Gender,\n",
        "    COUNT(`Patient ID`) AS patient_count,\n",
        "    ROUND(AVG(CAST(`Y-BOCS Score (Obsessions)` AS DECIMAL(10, 2))), 2) AS avg_obs_score\n",
        "  FROM ocd_patient_dataset\n",
        "  GROUP BY Gender\n",
        "  ORDER BY patient_count\n",
        ")\n",
        "SELECT\n",
        "  SUM(CASE WHEN Gender = 'Female' THEN patient_count ELSE 0 END) AS count_female,\n",
        "  SUM(CASE WHEN Gender = 'Male' THEN patient_count ELSE 0 END) AS count_male,\n",
        "  ROUND(\n",
        "    SUM(CASE WHEN Gender = 'Female' THEN patient_count ELSE 0 END) /\n",
        "    (SUM(CASE WHEN Gender = 'Male' THEN patient_count ELSE 0 END) +\n",
        "     SUM(CASE WHEN Gender = 'Female' THEN patient_count ELSE 0 END)) * 100, 2\n",
        "  ) AS pct_female,\n",
        "  ROUND(\n",
        "    SUM(CASE WHEN Gender = 'Male' THEN patient_count ELSE 0 END) /\n",
        "    (SUM(CASE WHEN Gender = 'Male' THEN patient_count ELSE 0 END) +\n",
        "     SUM(CASE WHEN Gender = 'Female' THEN patient_count ELSE 0 END)) * 100, 2\n",
        "  ) AS pct_male\n",
        "FROM data;\n",
        "\n",
        "\n",
        "# -- 2. Count of Patients by Ethnicity and their respective Average Obsession Score\n",
        "SELECT\n",
        "  Ethnicity,\n",
        "  COUNT(`Patient ID`) AS patient_count,\n",
        "  ROUND(AVG(CAST(`Y-BOCS Score (Obsessions)` AS DECIMAL(10, 2))), 2) AS avg_score\n",
        "FROM ocd_patient_dataset\n",
        "GROUP BY Ethnicity\n",
        "ORDER BY patient_count DESC;\n",
        "\n",
        "# -- 3. Number of People Diagnosed with OCD Month-over-Month\n",
        "SELECT\n",
        "  DATE_FORMAT(`OCD Diagnosis Date`, '%Y-%m') AS month,\n",
        "  COUNT(`Patient ID`) AS patient_count\n",
        "FROM healthcare.ocd_patient_dataset\n",
        "GROUP BY month\n",
        "ORDER BY month;\n",
        "\n",
        "# -- 4. Most Common Obsession Type (Count) & Its Respective Average Obsession Score\n",
        "SELECT\n",
        "  `Obsession Type`,\n",
        "  COUNT(`Patient ID`) AS patient_count,\n",
        "  ROUND(AVG(`Y-BOCS Score (Obsessions)`), 2) AS avg_obs_score\n",
        "FROM healthcare.ocd_patient_dataset\n",
        "GROUP BY `Obsession Type`\n",
        "ORDER BY patient_count DESC;\n",
        "\n",
        "# -- 5. Most Common Compulsion Type (Count) & Its Respective Average Compulsion Score\n",
        "SELECT\n",
        "  `Compulsion Type`,\n",
        "  COUNT(`Patient ID`) AS patient_count,\n",
        "  ROUND(AVG(`Y-BOCS Score (Compulsions)`), 2) AS avg_comp_score\n",
        "FROM healthcare.ocd_patient_dataset\n",
        "GROUP BY `Compulsion Type`\n",
        "ORDER BY patient_count DESC;"
      ],
      "metadata": {
        "id": "CNgrtbZhsV_3"
      },
      "execution_count": null,
      "outputs": []
    }
  ]
}